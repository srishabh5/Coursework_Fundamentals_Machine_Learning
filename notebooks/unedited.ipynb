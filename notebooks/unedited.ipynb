{
 "cells": [
  {
   "cell_type": "markdown",
   "id": "d006886d",
   "metadata": {},
   "source": [
    "# FML - Winter Semester 2022"
   ]
  },
  {
   "cell_type": "markdown",
   "id": "325d160f-99f1-47f6-9f15-11610711d7c4",
   "metadata": {
    "deletable": false,
    "editable": false,
    "nbgrader": {
     "cell_type": "markdown",
     "checksum": "0344bdab30b25ad6b05d093f04c37412",
     "grade": false,
     "grade_id": "cell-82646397961baa73",
     "locked": true,
     "schema_version": 3,
     "solution": false,
     "task": false
    },
    "tags": []
   },
   "source": [
    "# Bonus Points Assignment 1\n",
    "\n",
    "<div style=\"text-align: right;font-size: 0.8em\">Document Version 1.0.0</div>\n",
    "For detailed task instructions, please refer to the assignment PDF.\n",
    "\n",
    "This assignment requires `numpy`, `matplotlib`, `scikit-learn`, and `scipy` to run. If one of these imports fails, please install the corresponding library and make sure that you have activated the corresponding virtual environment. If the problem persists, please seek help on the forums or use [the JupyterHub profile of the lecture](https://jupyter.rwth-aachen.de/hub/spawn)."
   ]
  },
  {
   "cell_type": "code",
   "execution_count": 78,
   "id": "232cac89-d8dc-42d6-a4c1-b88ab246ea4f",
   "metadata": {
    "deletable": false,
    "editable": false,
    "nbgrader": {
     "cell_type": "code",
     "checksum": "77fa9f75b6cf86b6eb575fbb7d9eac81",
     "grade": false,
     "grade_id": "cell-31b0430e4452e9e0",
     "locked": true,
     "schema_version": 3,
     "solution": false,
     "task": false
    },
    "tags": []
   },
   "outputs": [],
   "source": [
    "import numpy as np\n",
    "np.random.seed(1234)\n",
    "\n",
    "from pathlib import Path\n",
    "ROOT = Path().resolve()\n",
    "DATA = ROOT / 'data'  # This contains the path to the data/ folder of the assignment"
   ]
  },
  {
   "cell_type": "code",
   "execution_count": null,
   "id": "c21bec08-6094-4ced-8738-22862c6ac93b",
   "metadata": {},
   "outputs": [],
   "source": [
    "\"\"\"\n",
    "import scipy.io \n",
    "data_mat_train_val = scipy.io.loadmat(DATA/'sarcos_inv.mat')\n",
    "data_numpy = data_mat_train_val['sarcos_inv']\n",
    "type(data_numpy)\n",
    "data_numpy.shape\n",
    "# type(data_mat_train_val)\n",
    "g = data_numpy[:,21].reshape(-1,1)\n",
    "print(g.shape)\n",
    "\"\"\""
   ]
  },
  {
   "cell_type": "markdown",
   "id": "3d3008a6-692c-435a-b4fb-84d8920cb098",
   "metadata": {
    "deletable": false,
    "editable": false,
    "nbgrader": {
     "cell_type": "markdown",
     "checksum": "8e3305b9a608a2db8dd03bfb11b02328",
     "grade": false,
     "grade_id": "cell-873d7d90ab8d54e8",
     "locked": true,
     "schema_version": 3,
     "solution": false,
     "task": false
    },
    "tags": []
   },
   "source": [
    "### Setup\n",
    "__Question 1.1__ Load the data into the following numpy arrays. For the output, only use the first torque variable.\n",
    "Randomly split the data from the file ```sarcos_inv.mat``` into a training set (80%) and a validation set (20%)."
   ]
  },
  {
   "cell_type": "code",
   "execution_count": 79,
   "id": "450ae9e8-fc4f-44da-94ad-66aa3caf715d",
   "metadata": {
    "deletable": false,
    "nbgrader": {
     "cell_type": "code",
     "checksum": "d8b79dde2e51a505e93439704895f6e1",
     "grade": false,
     "grade_id": "cell-load-mat-data",
     "locked": false,
     "schema_version": 3,
     "solution": true,
     "task": false
    },
    "tags": []
   },
   "outputs": [],
   "source": [
    "import scipy.io  # Use scipy.io to import the data\n",
    "\n",
    "# First, load the data sets as numpy arrays\n",
    "# Then, split it appropriately in the following variables\n",
    "\n",
    "# Input and output training data\n",
    "xs_train = ...\n",
    "ys_train = ...\n",
    "\n",
    "# Input and output validation data\n",
    "xs_valid = ...\n",
    "ys_valid = ...\n",
    "\n",
    "# Input and output test data\n",
    "xs_test = ...\n",
    "ys_test = ...\n",
    "\n",
    "# YOUR CODE HERE\n",
    "#load mat files from the folder path given by DATA\n",
    "\n",
    "data_mat_train_val = scipy.io.loadmat(DATA/'sarcos_inv.mat')\n",
    "data_mat_test = scipy.io.loadmat(DATA/'sarcos_inv_test.mat')\n",
    "#print(len(data_mat_train_val))  #length of the dict\n",
    "#print(data_mat_train_val.keys()) # how many keys\n",
    "#print(data_mat_train_val['sarcos_inv']) # for particular key how are the values\n",
    "#print(data_mat_train_val) \n",
    "#print(data_mat_train_val['sarcos_inv'][0].size) \n",
    "#print(data_mat_test['sarcos_inv_test'][0].size)\n",
    "#print(data_mat_test.items())\n",
    "\n",
    "\n",
    "\n",
    "\"\"\"# first we store it in a list\n",
    "#so for training and validation data\n",
    "\n",
    "data_list_train_val = []\n",
    "for key,val in data_mat_train_val.items():\n",
    "    if key in ['sarcos_inv']:\n",
    "        data_list_train_val.append(val)\n",
    "\n",
    "\n",
    "data_arr_train_val = np.array(data_list_train_val)\n",
    "#print(len(data_arr_train_val[0][0]))\n",
    "data_arr_train_val = np.reshape(data_arr_train_val,(44484,28))\n",
    "#print(data_arr_train_val[0].size)\n",
    "\"\"\"\n",
    "\"\"\"\n",
    "#same for the test data\n",
    "\n",
    "data_list_test = []\n",
    "for key,val in data_mat_test.items():\n",
    "    if key in ['sarcos_inv_test']:\n",
    "        data_list_test.append(val)\n",
    "    \n",
    "data_arr_test = np.array(data_list_test)\n",
    "#print(data_arr_test[0].size)\n",
    "#print(len(data_arr_test[0][0]))\n",
    "\n",
    "data_arr_test = np.reshape(data_arr_test,(4449,28))\n",
    "#print(data_arr_test.size)\n",
    "#print(len(data_arr_test[0]))\n",
    "\n",
    "\"\"\"\n",
    "#load data from mat file and key value and get the numpy array \n",
    "data_arr_train_val = data_mat_train_val['sarcos_inv']\n",
    "data_arr_test = data_mat_test['sarcos_inv_test']\n",
    "#type(data_arr_train_val)\n",
    "#data_arr_train_val.shape\n",
    "\n",
    "# Now to split the test data and validation data 80-20 randomly\n",
    "\n",
    "#print(data_arr_train_val)\n",
    "#print(np.sum(data_arr_train_val[0][0])) # to check the sum of the first row before shuffling\n",
    "\n",
    "# first we shuffle\n",
    "\n",
    "np.random.shuffle(data_arr_train_val)\n",
    "#np.random.Generator.shuffle(data_arr_train_val)\n",
    "#print(np.sum(data_arr_train_val[0][0])) # to check the sum after shuffling\n",
    "\n",
    "# then we slice the data 80% 20%\n",
    "#to get the row index\n",
    "\n",
    "row_index_split = int(data_arr_train_val.shape[0] * 0.8)\n",
    "#print(row_index_split)\n",
    "#data_train = data_arr_train_val[:row_index_split,:]\n",
    "#print(len(data_train))\n",
    "#data_val = data_arr_train_val[35587:,]\n",
    "#print(len(data_val[0]))\n",
    "\n",
    "#split with the row index\n",
    "xs_train = data_arr_train_val[:row_index_split,:21] # array[start index row : end index : increment, start index column : end index : incr] \n",
    "ys_train = data_arr_train_val[:row_index_split,21].reshape(-1,1) # reshape vector to a column matrix\n",
    "#print(ys_train.shape)\n",
    "\n",
    "xs_valid = data_arr_train_val[row_index_split:,:21]\n",
    "ys_valid = data_arr_train_val[row_index_split:,21].reshape(-1,1)\n",
    "\n",
    "xs_test = data_arr_test[:,:21]\n",
    "ys_test = data_arr_test[:,21].reshape(-1,1)\n",
    "\n",
    "#x = np.array([1, 1, 1])\n",
    "#ys_train.shape\n",
    "#t = np.arange(9).reshape(3,3)\n",
    "#t[:,2]\n",
    "\n",
    "#raise NotImplementedError()"
   ]
  },
  {
   "cell_type": "markdown",
   "id": "592ffa0b-f5d0-4382-9133-115f705821f4",
   "metadata": {
    "deletable": false,
    "editable": false,
    "nbgrader": {
     "cell_type": "markdown",
     "checksum": "333e12e52942e79d8e8c8bcca0a99fea",
     "grade": false,
     "grade_id": "cell-da5a7640101f9bf2",
     "locked": true,
     "schema_version": 3,
     "solution": false,
     "task": false
    },
    "tags": []
   },
   "source": [
    "Use the following checks to make sure that your data has the right shapes."
   ]
  },
  {
   "cell_type": "code",
   "execution_count": 80,
   "id": "efd5e85e-f29d-440f-b90e-4114ff30e831",
   "metadata": {
    "deletable": false,
    "editable": false,
    "nbgrader": {
     "cell_type": "code",
     "checksum": "d6fedef35a93a32a886f607b49a1a3b5",
     "grade": true,
     "grade_id": "cell-8f0741aaaafbdbd1",
     "locked": true,
     "points": 1,
     "schema_version": 3,
     "solution": false,
     "task": false
    },
    "tags": []
   },
   "outputs": [],
   "source": [
    "assert xs_train.shape == (35587, 21), \"xs_train should contain 35587 21-dimensional data points\"\n",
    "assert ys_train.shape == (35587, 1), \"ys_train should contain 35587 1-dimensional data points\"\n",
    "assert xs_valid.shape == (8897, 21), \"xs_valid should contain 8897 21-dimensional data points\"\n",
    "assert ys_valid.shape == (8897, 1), \"ys_valid should contain 8897 1-dimensional data points\"\n",
    "assert xs_test.shape == (4449, 21), \"xs_test should contain 4449 21-dimensional data points\"\n",
    "assert ys_test.shape == (4449, 1), \"ys_test should contain 4449 1-dimensional data points\""
   ]
  },
  {
   "cell_type": "code",
   "execution_count": null,
   "id": "2a3ba34e",
   "metadata": {
    "deletable": false,
    "editable": false,
    "nbgrader": {
     "cell_type": "code",
     "checksum": "6365866224bb00e7c32ac64e303f899b",
     "grade": true,
     "grade_id": "cell-96c7c902fbeb29dd",
     "locked": true,
     "points": 1,
     "schema_version": 3,
     "solution": false,
     "task": false
    },
    "tags": []
   },
   "outputs": [],
   "source": [
    "# Used for grading. Do not change."
   ]
  },
  {
   "cell_type": "markdown",
   "id": "b8d354c6-748c-48eb-a6b2-aafb2f44d887",
   "metadata": {
    "deletable": false,
    "editable": false,
    "nbgrader": {
     "cell_type": "markdown",
     "checksum": "a76a5d77431963bf2ae16121e0fcee2d",
     "grade": false,
     "grade_id": "cell-db2bb8e60186028f",
     "locked": true,
     "schema_version": 3,
     "solution": false,
     "task": false
    },
    "tags": []
   },
   "source": [
    "__Question 1.2__ Implement `my_variance` and `my_mse`."
   ]
  },
  {
   "cell_type": "code",
   "execution_count": 81,
   "id": "0a3b7b73-ce98-4e33-ad86-38a09fd3854c",
   "metadata": {
    "deletable": false,
    "nbgrader": {
     "cell_type": "code",
     "checksum": "4bfa3eae9623b8ca9aa17944a950b758",
     "grade": false,
     "grade_id": "cell-my-variance",
     "locked": false,
     "schema_version": 3,
     "solution": true,
     "task": false
    },
    "tags": []
   },
   "outputs": [],
   "source": [
    "def my_variance(xs: np.ndarray) -> np.ndarray:\n",
    "    \"\"\" Computes the sample variance of a given vector of scalars\n",
    "    \n",
    "    Args:\n",
    "        xs: 1D numpy array containing scalars\n",
    "    \n",
    "    Returns:\n",
    "        The empirical variance of the provided vector as a float\n",
    "    \"\"\"\n",
    "    # YOUR CODE HERE\n",
    "    mean = float(np.sum(xs)/xs.size)\n",
    "    var = np.sum(((xs - mean)**2)/xs.size)\n",
    "    #var = float(0)\n",
    "    # for i in xs:\n",
    "    #     var = ((i-mean)**2)/len(xs) + var\n",
    "    return var\n",
    "    #raise NotImplementedError()"
   ]
  },
  {
   "cell_type": "markdown",
   "id": "294126de-399e-43de-a559-ee02b40109b1",
   "metadata": {
    "deletable": false,
    "editable": false,
    "nbgrader": {
     "cell_type": "markdown",
     "checksum": "976734d2e4d9759ffffbf8a46e3320f7",
     "grade": false,
     "grade_id": "cell-c978df36491c380a",
     "locked": true,
     "schema_version": 3,
     "solution": false,
     "task": false
    },
    "tags": []
   },
   "source": [
    "Use the following checks to make sure that your function gives the correct sample variance in simple cases."
   ]
  },
  {
   "cell_type": "code",
   "execution_count": 82,
   "id": "be979536-36b2-4823-b69d-5b6eb890c628",
   "metadata": {
    "deletable": false,
    "editable": false,
    "nbgrader": {
     "cell_type": "code",
     "checksum": "36c206f8f1ae04174b2b1774e8ab8bf7",
     "grade": true,
     "grade_id": "cell-ff451cd6a16584e1",
     "locked": true,
     "points": 1,
     "schema_version": 3,
     "solution": false,
     "task": false
    },
    "tags": []
   },
   "outputs": [],
   "source": [
    "assert np.isclose(my_variance(np.array([1, 1, 1])), 0), \"Variance of this vector should be 0\"\n",
    "assert np.isclose(my_variance(np.array([1, 2, 3, 4, 5])), 2), \"Variance of this vector should be 2\""
   ]
  },
  {
   "cell_type": "code",
   "execution_count": null,
   "id": "588af5ef",
   "metadata": {
    "deletable": false,
    "editable": false,
    "nbgrader": {
     "cell_type": "code",
     "checksum": "891026677d7a10266b0ac86e1d55ace2",
     "grade": true,
     "grade_id": "cell-5c8e70295fc8bab4",
     "locked": true,
     "points": 1,
     "schema_version": 3,
     "solution": false,
     "task": false
    },
    "tags": []
   },
   "outputs": [],
   "source": [
    "# Used for grading. Do not change."
   ]
  },
  {
   "cell_type": "code",
   "execution_count": null,
   "id": "2622c0df-76b9-49b1-9d3d-92b06e046c96",
   "metadata": {
    "deletable": false,
    "editable": false,
    "nbgrader": {
     "cell_type": "code",
     "checksum": "abdcf7757087e5ad5f04ffbcf0cbf72a",
     "grade": true,
     "grade_id": "cell-69d71af5fadcb3e3",
     "locked": true,
     "points": 1,
     "schema_version": 3,
     "solution": false,
     "task": false
    },
    "tags": []
   },
   "outputs": [],
   "source": [
    "# Used for grading. Do not change."
   ]
  },
  {
   "cell_type": "markdown",
   "id": "0e2e0c41-1f25-444a-b432-a5daf1198b1f",
   "metadata": {
    "deletable": false,
    "editable": false,
    "nbgrader": {
     "cell_type": "markdown",
     "checksum": "7a27d6b8df5a93b3872bfdc86c2ec0b7",
     "grade": false,
     "grade_id": "cell-9ac568ff2de93c03",
     "locked": true,
     "schema_version": 3,
     "solution": false,
     "task": false
    },
    "tags": []
   },
   "source": [
    "Now, implement the MSE function."
   ]
  },
  {
   "cell_type": "code",
   "execution_count": 241,
   "id": "e6f68384-ad06-43de-bca5-fbcc2f2d67d0",
   "metadata": {
    "deletable": false,
    "nbgrader": {
     "cell_type": "code",
     "checksum": "42a5bf6a0cee9f78cbdf539aefa85459",
     "grade": false,
     "grade_id": "cell-my-mse",
     "locked": false,
     "schema_version": 3,
     "solution": true,
     "task": false
    },
    "tags": []
   },
   "outputs": [],
   "source": [
    "def my_mse(z1: np.ndarray, z2: np.ndarray):\n",
    "    \"\"\" Computes the Mean Squared Error (MSE)\n",
    "    \n",
    "    Args:\n",
    "        z1: A 1D numpy array (usually the predictions).\n",
    "        z2: Another 1D numpy array.\n",
    "    \n",
    "    Returns\n",
    "        The MSE of the given data.\n",
    "    \"\"\"\n",
    "    # YOUR CODE HERE\n",
    "    \n",
    "    N = z1.size\n",
    "    #print(N)\n",
    "    tmp_mse = z1 - z2\n",
    "    tmp_mse = np.square(tmp_mse)\n",
    "    return float(np.sum(tmp_mse)/N)\n",
    "    \"\"\"np.linalg.norm(z1-z2, axis=0)\"\"\"\n",
    "    \n",
    "    #raise NotImplementedError()"
   ]
  },
  {
   "cell_type": "code",
   "execution_count": null,
   "id": "22b8483d-9880-4023-a8de-c07cd67ef708",
   "metadata": {},
   "outputs": [],
   "source": [
    "\"\"\"\n",
    "qt = np.arange(8).reshape(1,8)\n",
    "pt = np.random.rand(1,8)\n",
    "\n",
    "p = np.arange(9).reshape(3,3)\n",
    "print(pt)\n",
    "#q = np.random.arange(9).reshape(3,3)\n",
    "q = np.array([[1,2,3],[4,5,6],[7,8,9]])\n",
    "print(qt)\n",
    "print (my_mse(pt,qt))\n",
    "\"\"\""
   ]
  },
  {
   "cell_type": "markdown",
   "id": "6a1f5538-05e1-4a5e-857c-05555ec59ed6",
   "metadata": {
    "deletable": false,
    "editable": false,
    "nbgrader": {
     "cell_type": "markdown",
     "checksum": "c8c9f2c7dc658dd59f7cd46641d95727",
     "grade": false,
     "grade_id": "cell-4eee868c39b2dead",
     "locked": true,
     "schema_version": 3,
     "solution": false,
     "task": false
    },
    "tags": []
   },
   "source": [
    "Use the following checks to make sure that your function gives the correct MSE in simple cases."
   ]
  },
  {
   "cell_type": "code",
   "execution_count": 242,
   "id": "6f04b48b-b97b-42e8-ad5d-1ce67e220e89",
   "metadata": {
    "deletable": false,
    "editable": false,
    "nbgrader": {
     "cell_type": "code",
     "checksum": "2b0ac48e9c69e4a160541fa44bb0ba2d",
     "grade": true,
     "grade_id": "cell-189fba4632172bec",
     "locked": true,
     "points": 1,
     "schema_version": 3,
     "solution": false,
     "task": false
    },
    "tags": []
   },
   "outputs": [],
   "source": [
    "assert np.isclose(my_mse(np.array([3.0]), np.array([4.0])), 1), \"The MSE between 3 and 4 should be 1\"\n",
    "assert np.isclose(my_mse(np.array([1, 2, 3, 4]), np.array([1, 2, 3, 4])), 0), \"MSE should be 0 for identical z vectors\""
   ]
  },
  {
   "cell_type": "code",
   "execution_count": null,
   "id": "cfea0c35",
   "metadata": {
    "deletable": false,
    "editable": false,
    "nbgrader": {
     "cell_type": "code",
     "checksum": "978c0c8c00149b096ea25d62f0aff920",
     "grade": true,
     "grade_id": "cell-1c65cd7227d5b289",
     "locked": true,
     "points": 1,
     "schema_version": 3,
     "solution": false,
     "task": false
    },
    "tags": []
   },
   "outputs": [],
   "source": [
    "# Used for grading. Do not change."
   ]
  },
  {
   "cell_type": "markdown",
   "id": "79cc415e-7715-4e0a-9315-0c4eba7fda6e",
   "metadata": {
    "deletable": false,
    "editable": false,
    "nbgrader": {
     "cell_type": "markdown",
     "checksum": "7ea40dd121372e2d3493aa3719ec9539",
     "grade": false,
     "grade_id": "cell-bc0cc3e7c70b175c",
     "locked": true,
     "schema_version": 3,
     "solution": false,
     "task": false
    },
    "tags": []
   },
   "source": [
    "__Question 1.3__ Standardize the dataset you loaded earlier."
   ]
  },
  {
   "cell_type": "code",
   "execution_count": 243,
   "id": "84844508-836e-4d19-ba23-accd695212a9",
   "metadata": {
    "deletable": false,
    "nbgrader": {
     "cell_type": "code",
     "checksum": "3a7b0025f48a208cefc6f2d4b17a8a8c",
     "grade": false,
     "grade_id": "cell-standardize-data",
     "locked": false,
     "schema_version": 3,
     "solution": true,
     "task": false
    },
    "tags": []
   },
   "outputs": [],
   "source": [
    "xs_train_std = ...\n",
    "ys_train_std = ...\n",
    "xs_valid_std = ...\n",
    "ys_valid_std = ...\n",
    "xs_test_std = ...\n",
    "ys_test_std = ...\n",
    "# YOUR CODE HERE\n",
    "\n",
    "# standardize feature wise so will run the operation over the columns\n",
    "def standardize(inp: np.ndarray)-> np.ndarray:\n",
    "    out = np.empty_like(inp)\n",
    "    for i in range(0,inp.shape[1],1):\n",
    "        mean = np.mean(inp[:,i])\n",
    "        sd = np.std(inp[:,i])\n",
    "        out[:,i] = (inp[:,i] - mean) / sd\n",
    "    return out\n",
    "def mean_standardize(inp: np.ndarray)-> np.ndarray:\n",
    "    out = np.empty_like(inp)\n",
    "    for i in range(0,inp.shape[1],1):\n",
    "        mean = np.mean(inp[:,i])\n",
    "        #sd = np.std(inp[:,i])\n",
    "        out[:,i] = (inp[:,i] - mean)\n",
    "    return out\n",
    "    #for i in range(0,inp.shape[1],1):\n",
    "    #    mean = np.mean(inp[:,i:i+1:1])\n",
    "    #    sd = np.std(inp[:,i:i+1:1])\n",
    "    #    out[:,i:i+1:1] = (inp[:,i:i+1:1] - mean)/sd\n",
    "    #return out\n",
    "xs_train_std = standardize(xs_train)\n",
    "#ys_train_std = standardize(ys_train)\n",
    "ys_train_std = mean_standardize(ys_train)\n",
    "\n",
    "xs_valid_std = standardize(xs_valid)\n",
    "#print(xs_valid_std.shape)\n",
    "ys_valid_std = mean_standardize(ys_valid)\n",
    "\n",
    "#ys_valid_std = standardize(ys_valid)\n",
    "xs_test_std = standardize(xs_test)\n",
    "\n",
    "ys_test_std = mean_standardize(ys_test)\n",
    "#ys_test_std = standardize(ys_test)\n",
    "\n",
    "#print(xs_train_std[0])\n",
    "#print(np.mean(xs_train_std[:,1]))\n",
    "#print(np.var(xs_train_std[:,0]))\n",
    "\n",
    "#for i in range(0,xs_train.shape[1],1):\n",
    "    #print(i)\n",
    "#    mean = np.mean(xs_train[:,i:i+1:1])\n",
    "#    sd = np.std(xs_train[:,i:i+1:1])\n",
    "#    xs_train_std = (xs_train - mean)/sd\n",
    "\n",
    "\n",
    "\n",
    "#arr_test = np.array([[1,2],[3, 4],[5,6]])\n",
    "#print(type(arr_test.shape[0]))\n",
    "#print(arr_test.shape[1])\n",
    "#arr_test = (arr_test-1)/2\n",
    "#for i in range (0,arr_test.shape[0]):\n",
    "#    print(arr_test[i])\n",
    "    \n",
    "\n",
    "#raise NotImplementedError()"
   ]
  },
  {
   "cell_type": "markdown",
   "id": "b526b1e0-6be7-48dd-ae9a-3f42bb19421e",
   "metadata": {
    "deletable": false,
    "editable": false,
    "nbgrader": {
     "cell_type": "markdown",
     "checksum": "eb96d54caf674ecea01fd0e7f0042ae9",
     "grade": false,
     "grade_id": "cell-95e9d10a7549eb43",
     "locked": true,
     "schema_version": 3,
     "solution": false,
     "task": false
    },
    "tags": []
   },
   "source": [
    "Use the following checks to make sure that your standardization does not change the data shapes."
   ]
  },
  {
   "cell_type": "code",
   "execution_count": 244,
   "id": "3edbb6f3-142a-490f-9eae-a6f93151f72b",
   "metadata": {
    "deletable": false,
    "editable": false,
    "nbgrader": {
     "cell_type": "code",
     "checksum": "79b6f7b30a05906b8f2e0f8fe2558aea",
     "grade": true,
     "grade_id": "cell-a8bc760e5d98de45",
     "locked": true,
     "points": 1,
     "schema_version": 3,
     "solution": false,
     "task": false
    },
    "tags": []
   },
   "outputs": [],
   "source": [
    "assert xs_train_std.shape == xs_train.shape, \"Normalizing is not supposed to change the shape of your data\"\n",
    "assert ys_train_std.shape == ys_train.shape, \"Normalizing is not supposed to change the shape of your data\"\n",
    "assert xs_valid_std.shape == xs_valid.shape, \"Normalizing is not supposed to change the shape of your data\"\n",
    "assert ys_valid_std.shape == ys_valid.shape, \"Normalizing is not supposed to change the shape of your data\"\n",
    "assert xs_test_std.shape == xs_test.shape, \"Normalizing is not supposed to change the shape of your data\"\n",
    "assert ys_test_std.shape == ys_test.shape, \"Normalizing is not supposed to change the shape of your data\""
   ]
  },
  {
   "cell_type": "markdown",
   "id": "8bf95660-4ad0-4881-bf1a-082f559df758",
   "metadata": {
    "deletable": false,
    "editable": false,
    "nbgrader": {
     "cell_type": "markdown",
     "checksum": "991f4b28f3a877ba0044c489e35624d0",
     "grade": false,
     "grade_id": "cell-890f5fc1c354cfb9",
     "locked": true,
     "schema_version": 3,
     "solution": false,
     "task": false
    },
    "tags": []
   },
   "source": [
    "Use the following checks to make sure that the training data has roughly mean 0 and variance 1 after standardizing."
   ]
  },
  {
   "cell_type": "code",
   "execution_count": 245,
   "id": "c1f26350-0561-4c88-a271-d533919e8a7d",
   "metadata": {
    "deletable": false,
    "editable": false,
    "nbgrader": {
     "cell_type": "code",
     "checksum": "3ba229c40368c6a77e7d03a7bec1ed72",
     "grade": true,
     "grade_id": "cell-6c3b8016bfaef4f8",
     "locked": true,
     "points": 1,
     "schema_version": 3,
     "solution": false,
     "task": false
    },
    "tags": []
   },
   "outputs": [],
   "source": [
    "assert np.isclose(np.mean(xs_train_std), 0, atol=0.005), \"Training inputs mean should be 0\"\n",
    "assert np.isclose(np.mean(ys_train_std), 0, atol=0.005), \"Training outputs mean should be 0\"\n",
    "\n",
    "assert np.allclose(np.var(xs_train_std, axis=0), 1, atol=0.005), \"Training inputs variance should be 1\""
   ]
  },
  {
   "cell_type": "code",
   "execution_count": null,
   "id": "0a7d5594",
   "metadata": {
    "deletable": false,
    "editable": false,
    "nbgrader": {
     "cell_type": "code",
     "checksum": "28c6a3257bd9230e5b4fef28782b05d9",
     "grade": true,
     "grade_id": "cell-b72f4d5b39844cb4",
     "locked": true,
     "points": 1,
     "schema_version": 3,
     "solution": false,
     "task": false
    },
    "tags": []
   },
   "outputs": [],
   "source": [
    "# Used for grading. Do not change."
   ]
  },
  {
   "cell_type": "code",
   "execution_count": null,
   "id": "f08bc306-ebbd-4cce-880f-bb76116db401",
   "metadata": {
    "deletable": false,
    "editable": false,
    "nbgrader": {
     "cell_type": "code",
     "checksum": "9ab3e14bb544078721c2c1619a42ec28",
     "grade": true,
     "grade_id": "cell-a7e7844ea3bea084",
     "locked": true,
     "points": 1,
     "schema_version": 3,
     "solution": false,
     "task": false
    },
    "tags": []
   },
   "outputs": [],
   "source": [
    "# Used for grading. Do not change."
   ]
  },
  {
   "cell_type": "code",
   "execution_count": null,
   "id": "932499ee-3e04-442c-9b68-372cb2cfabea",
   "metadata": {
    "deletable": false,
    "editable": false,
    "nbgrader": {
     "cell_type": "code",
     "checksum": "b48c8b1609044667cd1aefbb258a0ef5",
     "grade": true,
     "grade_id": "cell-76d6497bd9b4ecfe",
     "locked": true,
     "points": 1,
     "schema_version": 3,
     "solution": false,
     "task": false
    },
    "tags": []
   },
   "outputs": [],
   "source": [
    "# Used for grading. Do not change."
   ]
  },
  {
   "cell_type": "code",
   "execution_count": null,
   "id": "ab864578-14d0-4c86-8fbe-03b6d1180cf7",
   "metadata": {
    "deletable": false,
    "editable": false,
    "nbgrader": {
     "cell_type": "code",
     "checksum": "6ab69f0663ce5663bdf381cb83dff0ff",
     "grade": true,
     "grade_id": "cell-f3ba139a2f438144",
     "locked": true,
     "points": 1,
     "schema_version": 3,
     "solution": false,
     "task": false
    },
    "tags": []
   },
   "outputs": [],
   "source": [
    "# Used for grading. Do not change."
   ]
  },
  {
   "cell_type": "markdown",
   "id": "bac93291-c4c4-4da2-8325-36c35d93cae2",
   "metadata": {
    "deletable": false,
    "editable": false,
    "nbgrader": {
     "cell_type": "markdown",
     "checksum": "74bb0797549c4ee53620f057753b3880",
     "grade": false,
     "grade_id": "cell-26ea6bdf0effed3f",
     "locked": true,
     "schema_version": 3,
     "solution": false,
     "task": false
    },
    "tags": []
   },
   "source": [
    "## Linear regression\n",
    "### Simple linear regression\n",
    "__Question 1.4__ Implement a function that performs linear regression given input data and target values."
   ]
  },
  {
   "cell_type": "code",
   "execution_count": 246,
   "id": "66fde431-013f-49d6-ac50-6eedeecff0da",
   "metadata": {
    "deletable": false,
    "nbgrader": {
     "cell_type": "code",
     "checksum": "6cdc0fdc297db777b8fbc12d6dd1da4e",
     "grade": false,
     "grade_id": "cell-my-linear-regression",
     "locked": false,
     "schema_version": 3,
     "solution": true,
     "task": false
    },
    "tags": []
   },
   "outputs": [],
   "source": [
    "def my_linear_regression(phi: np.ndarray, ys: np.ndarray) -> np.ndarray:\n",
    "    \"\"\" Computes the weights of a linear regression that fits the given data.\n",
    "    \n",
    "    Notes:\n",
    "        You may use np.linalg.solve to solve a system of linear equations.\n",
    "    \n",
    "    Args:\n",
    "        phi: Input feature matrix of shape (N, D) containing N samples of dimension D.\n",
    "        ys: Target outputs of shape (N, 1) containing N 1-dimensional samples.\n",
    "        \n",
    "    Returns:\n",
    "        A numpy array containing the regressed weights of shape (D, 1), containing one weight for each input dimension.\n",
    "    \"\"\"\n",
    "    # YOUR CODE HERE\n",
    "    \"\"\"\n",
    "    # first implementation\n",
    "    \n",
    "    phi_t = np.transpose(phi)\n",
    "    #print(phi_t.shape)\n",
    "    temp_dd = np.matmul(phi_t,phi)\n",
    "    #print(temp_dd.shape)\n",
    "    inv_temp_dd = np.linalg.inv(temp_dd)\n",
    "    #print(inv_temp_dd.shape)\n",
    "    \n",
    "    temp_nd = np.matmul(inv_temp_dd,phi_t)\n",
    "    #print(temp_nd.shape)\n",
    "\n",
    "    w = np.matmul(temp_nd,ys)\n",
    "    return w\n",
    "    \"\"\"\n",
    "    \n",
    "    #second implementation\n",
    "    w = (np.linalg.inv(phi.T @ phi) @ phi.T) @ ys\n",
    "    #w = np.matmul(np.matmul(np.linalg.inv(np.matmul(phi.T, phi)), phi.T), ys)\n",
    "    #phi_inv = np.linalg.pinv(phi)\n",
    "    #w = np.dot(phi_inv,ys)\n",
    "    #w = np.dot((np.dot(np.linalg.inv(np.dot(phi.T,phi)),phi.T)),ys)\n",
    "    #w = np.dot(np.linalg.pinv(phi),ys)\n",
    "    return w\n",
    "\n",
    "    \"\"\"\n",
    "    a = phi.T@phi\n",
    "    print(np.linalg.matrix_rank(a))\n",
    "    b = phi.T@ys\n",
    "    print(np.linalg.matrix_rank(b))\n",
    "    w = np.linalg.solve(a,b)\n",
    "    return w\n",
    "    \"\"\"\n",
    "       \n",
    "    #return phi_t\n",
    "    #raise NotImplementedError()"
   ]
  },
  {
   "cell_type": "code",
   "execution_count": null,
   "id": "c26c6275-32ab-426b-ab0c-d4651fe70916",
   "metadata": {},
   "outputs": [],
   "source": []
  },
  {
   "cell_type": "markdown",
   "id": "cb754f21-52dd-4dee-a459-be039e0ac76e",
   "metadata": {
    "deletable": false,
    "editable": false,
    "nbgrader": {
     "cell_type": "markdown",
     "checksum": "af3a26786c4bc22862b633abeeb58f51",
     "grade": false,
     "grade_id": "cell-2a3f7f4930d497af",
     "locked": true,
     "schema_version": 3,
     "solution": false,
     "task": false
    },
    "tags": []
   },
   "source": [
    "Use the following checks to make sure your weights have the correct shape."
   ]
  },
  {
   "cell_type": "code",
   "execution_count": 247,
   "id": "3533154e-4598-483b-8241-02928db3daad",
   "metadata": {
    "deletable": false,
    "editable": false,
    "nbgrader": {
     "cell_type": "code",
     "checksum": "aabfeebf8db29fb728428453f9947f4e",
     "grade": true,
     "grade_id": "cell-adfa7e835a001fcd",
     "locked": true,
     "points": 1,
     "schema_version": 3,
     "solution": false,
     "task": false
    },
    "tags": []
   },
   "outputs": [],
   "source": [
    "_my_weights = my_linear_regression(xs_train_std, ys_train_std)\n",
    "assert _my_weights.shape == (21, 1), \"Weights should have shape (D, 1).\""
   ]
  },
  {
   "cell_type": "code",
   "execution_count": null,
   "id": "b6293e22-0827-4bcf-8a9d-0c844600ea83",
   "metadata": {},
   "outputs": [],
   "source": [
    "print(_my_weights)"
   ]
  },
  {
   "cell_type": "markdown",
   "id": "ccd3dd48-d004-44a9-892b-112abca3148f",
   "metadata": {
    "deletable": false,
    "editable": false,
    "nbgrader": {
     "cell_type": "markdown",
     "checksum": "6747dab48fb2d8a611fcdeb425a102e6",
     "grade": false,
     "grade_id": "cell-5e3331e11825b0f6",
     "locked": true,
     "schema_version": 3,
     "solution": false,
     "task": false
    },
    "tags": []
   },
   "source": [
    "If you implemented everything correctly so far, you should now get an MSE of roughly $31$. If your actual MSE deviates a lot from that, try to debug the code that you have written so far. Here you just have to run the cell below."
   ]
  },
  {
   "cell_type": "code",
   "execution_count": 248,
   "id": "2b0c6004-95c2-4b39-8da1-96cf66bce537",
   "metadata": {
    "deletable": false,
    "editable": false,
    "nbgrader": {
     "cell_type": "code",
     "checksum": "353d84155a3650ac59cd6a8a72e945db",
     "grade": true,
     "grade_id": "cell-333595d802f5028e",
     "locked": true,
     "points": 1,
     "schema_version": 3,
     "solution": false,
     "task": false
    },
    "tags": []
   },
   "outputs": [
    {
     "name": "stdout",
     "output_type": "stream",
     "text": [
      "Your MSE should be roughly 31 and it is 31.561172557572437.\n"
     ]
    }
   ],
   "source": [
    "_my_y_valid_pred = xs_valid_std @ _my_weights\n",
    "_my_mse = my_mse(ys_valid_std, _my_y_valid_pred)\n",
    "print(f\"Your MSE should be roughly 31 and it is {_my_mse}.\")"
   ]
  },
  {
   "cell_type": "code",
   "execution_count": null,
   "id": "626904b1",
   "metadata": {
    "deletable": false,
    "editable": false,
    "nbgrader": {
     "cell_type": "code",
     "checksum": "aaddb6240d87f7e556af4fc33db00fad",
     "grade": true,
     "grade_id": "cell-396b8a1f71594423",
     "locked": true,
     "points": 1,
     "schema_version": 3,
     "solution": false,
     "task": false
    },
    "tags": []
   },
   "outputs": [],
   "source": [
    "# Used for grading. Do not change."
   ]
  },
  {
   "cell_type": "markdown",
   "id": "10af368a-5a1a-4ef9-8df9-5d480510791d",
   "metadata": {
    "deletable": false,
    "editable": false,
    "nbgrader": {
     "cell_type": "markdown",
     "checksum": "21b2b9124719f5cab4005d258ab58edf",
     "grade": false,
     "grade_id": "cell-70a3a0beb2a5bb2b",
     "locked": true,
     "schema_version": 3,
     "solution": false,
     "task": false
    },
    "tags": []
   },
   "source": [
    "### Linear regression with polynomial features\n",
    "__Question 1.5__ Implement a function that computes non-repeating features of degree up to two."
   ]
  },
  {
   "cell_type": "code",
   "execution_count": 249,
   "id": "687e78cb-4c21-4798-b2e8-f7362b29f833",
   "metadata": {
    "deletable": false,
    "nbgrader": {
     "cell_type": "code",
     "checksum": "7ce6c4e8844b9ebdd3cfe9ffe177c133",
     "grade": false,
     "grade_id": "cell-my-quadratic-features",
     "locked": false,
     "schema_version": 3,
     "solution": true,
     "task": false
    },
    "tags": []
   },
   "outputs": [],
   "source": [
    "def my_quadratic_features(xs: np.ndarray) -> np.ndarray:\n",
    "    \"\"\" Generates polynomial features up to degree 2 from given data.\n",
    "    \n",
    "    The quadratic features should include monomials (i.e., x_i, x_i**2 etc)\n",
    "    and interaction terms (x_1*x_2 etc), but no repetitions (i.e. NOT both x_1*x_2 and x_2*x_1).\n",
    "    You should include a bias term.\n",
    "    The order of the samples should not be changed through the transformation.\n",
    "    \n",
    "    Args:\n",
    "        xs: A 2D numpy array of shape (N, D) containing N samples of dimension D.\n",
    "    \n",
    "    Returns:\n",
    "        An (N, M) numpy array containing the transformed input.\n",
    "    \"\"\"\n",
    "    # YOUR CODE HERE\n",
    "    degree  = 2;\n",
    "    col_tran_xs = int(((xs.shape[1] ** 2) + (3 * xs.shape[1]))/2) + 1\n",
    "    #print(col_tran_xs)\n",
    "    tran_xs = np.zeros((xs.shape[0], col_tran_xs))\n",
    "    #print(tran_xs.shape)\n",
    "    #si = 0;\n",
    "    #ei = 0;\n",
    "    \n",
    "    #include bias term\n",
    "    tran_xs[:,0:1:1] = np.ones((xs.shape[0],1))\n",
    "    \n",
    "    out_i = 1;\n",
    "    for si in range (0,xs.shape[1],1):\n",
    "        tran_xs[ : , out_i : out_i + 1 : 1] = xs[ :, si : si + 1 : 1]\n",
    "        out_i += 1\n",
    "        for ei in range(si,xs.shape[1],1):\n",
    "            tran_xs[ : , out_i : out_i + 1 : 1] = xs[ :, si : si + 1 : 1] * xs[ :, ei : ei + 1 : 1]\n",
    "            out_i += 1 \n",
    "    #print(out_i)\n",
    "    #print(tran_xs.shape)\n",
    "    #print(type(tran_xs))\n",
    "    return tran_xs\n",
    "    #raise NotImplementedError()"
   ]
  },
  {
   "cell_type": "code",
   "execution_count": null,
   "id": "05844891-4f23-484c-8bc4-1e77c95cd379",
   "metadata": {},
   "outputs": [],
   "source": [
    "q = np.array([[1,2],[2,3]])\n",
    "r = my_quadratic_features(q)"
   ]
  },
  {
   "cell_type": "markdown",
   "id": "b7a6c772-e1b3-492e-b1ac-699d0569e8b2",
   "metadata": {
    "deletable": false,
    "editable": false,
    "nbgrader": {
     "cell_type": "markdown",
     "checksum": "8e90691512fa1a5f54ec80fe7eafd16b",
     "grade": false,
     "grade_id": "cell-b66ef0cddefe3ba1",
     "locked": true,
     "schema_version": 3,
     "solution": false,
     "task": false
    },
    "tags": []
   },
   "source": [
    "Use the following checks to make sure that your function produces the correct number of features in simple cases."
   ]
  },
  {
   "cell_type": "code",
   "execution_count": 250,
   "id": "1f2f5cd6-6c10-48fa-a289-001294d24d7a",
   "metadata": {
    "deletable": false,
    "editable": false,
    "nbgrader": {
     "cell_type": "code",
     "checksum": "b43028cbfeb9f7d25325e9c08f722eda",
     "grade": false,
     "grade_id": "cell-ea32180f3be9d050",
     "locked": true,
     "schema_version": 3,
     "solution": false,
     "task": false
    },
    "tags": []
   },
   "outputs": [],
   "source": [
    "assert my_quadratic_features(np.array([[0, 1]])).shape == (1, 6), \"For 2D data, your function should produce 6D quadratic features.\"\n",
    "assert my_quadratic_features(np.array([[0, 1], [2, 3]])).shape == (2, 6), \"Your function should produce 6D quadratic features for every data point.\""
   ]
  },
  {
   "cell_type": "markdown",
   "id": "924d4655-ab4a-4392-a37c-4bb0c782a857",
   "metadata": {
    "deletable": false,
    "editable": false,
    "nbgrader": {
     "cell_type": "markdown",
     "checksum": "1ea05a9dae4c53429a3f469b32e32102",
     "grade": false,
     "grade_id": "cell-548510829f9a86e8",
     "locked": true,
     "schema_version": 3,
     "solution": false,
     "task": false
    },
    "tags": []
   },
   "source": [
    "Use the following checks to make sure that your function produces the correct features in simple cases."
   ]
  },
  {
   "cell_type": "code",
   "execution_count": 251,
   "id": "1be8f63c-db08-4cc9-9551-c9f781aa9358",
   "metadata": {
    "deletable": false,
    "editable": false,
    "nbgrader": {
     "cell_type": "code",
     "checksum": "439ffe6669bc7d277fefcb027712acf5",
     "grade": true,
     "grade_id": "cell-5fd8899618381dce",
     "locked": true,
     "points": 1,
     "schema_version": 3,
     "solution": false,
     "task": false
    },
    "tags": []
   },
   "outputs": [],
   "source": [
    "_01_quadratic_features = my_quadratic_features(np.array([[0, 1]]))\n",
    "assert {0, 1} == set(*_01_quadratic_features), \"Quadratic features of [0, 1] should include only 0s and 1s.\"\n",
    "_count_0 = np.count_nonzero(_01_quadratic_features == 0)\n",
    "_count_1 = np.count_nonzero(_01_quadratic_features == 1)\n",
    "assert _count_0 == 3, \"Quadratic features of [0, 1] should include 3 zeros (x_0, x_0**2, x_0*x_1)\"\n",
    "assert _count_1 == 3, \"Quadratic features of [0, 1] should include 3 ones (bias, x_1, x_1 ** 2)\"\n",
    "\n",
    "assert {1, 4, 5, 16, 20, 25} == set(*my_quadratic_features(np.array([[4, 5]]))), \"Quadratic features of [4, 5] should be any permutation of [1, 4, 5, 16, 20, 25].\""
   ]
  },
  {
   "cell_type": "code",
   "execution_count": null,
   "id": "a900e51b",
   "metadata": {
    "deletable": false,
    "editable": false,
    "nbgrader": {
     "cell_type": "code",
     "checksum": "92e9dce392286c2033fc4bc590b3bf1c",
     "grade": true,
     "grade_id": "cell-52c9058992e8d280",
     "locked": true,
     "points": 1,
     "schema_version": 3,
     "solution": false,
     "task": false
    },
    "tags": []
   },
   "outputs": [],
   "source": [
    "# Used for grading. Do not change."
   ]
  },
  {
   "cell_type": "markdown",
   "id": "036938fa-4c45-4d4b-bdf2-b1fb3d091433",
   "metadata": {
    "deletable": false,
    "editable": false,
    "nbgrader": {
     "cell_type": "markdown",
     "checksum": "924c6347c237519f845a8cad430eee89",
     "grade": false,
     "grade_id": "cell-bc88a2c84fda0b86",
     "locked": true,
     "schema_version": 3,
     "solution": false,
     "task": false
    },
    "tags": []
   },
   "source": [
    "__Ungraded question 1.6__ Can you come up with a function for polynomial, non-repeating polynomial features for arbitrary degrees?"
   ]
  },
  {
   "cell_type": "markdown",
   "id": "c36f8b7c-1959-4cda-9756-907c42208189",
   "metadata": {
    "deletable": false,
    "editable": false,
    "nbgrader": {
     "cell_type": "markdown",
     "checksum": "bf4bafcb42b1e114ea16d426d2baac0c",
     "grade": false,
     "grade_id": "cell-6e495308dbc8f116",
     "locked": true,
     "schema_version": 3,
     "solution": false,
     "task": false
    },
    "tags": []
   },
   "source": [
    "__Question 1.7__ Generate polynomial features of up to degree 3 from your standardized train and test data."
   ]
  },
  {
   "cell_type": "code",
   "execution_count": 252,
   "id": "8ee43c49-9d1d-4609-88c9-b116657da838",
   "metadata": {
    "deletable": false,
    "nbgrader": {
     "cell_type": "code",
     "checksum": "24783c91e865130fd5db5553ea4d6ceb",
     "grade": false,
     "grade_id": "cell-polynomial-features",
     "locked": false,
     "schema_version": 3,
     "solution": true,
     "task": false
    },
    "tags": []
   },
   "outputs": [],
   "source": [
    "from sklearn.preprocessing import PolynomialFeatures\n",
    "xs_train_polynomial = ...\n",
    "xs_valid_polynomial = ...\n",
    "# YOUR CODE HERE\n",
    "xs_train_polynomial = PolynomialFeatures(3).fit_transform(xs_train_std)\n",
    "xs_valid_polynomial = PolynomialFeatures(3).fit_transform(xs_valid_std)\n",
    "\n",
    "#raise NotImplementedError()"
   ]
  },
  {
   "cell_type": "markdown",
   "id": "497fc20a-d493-4ffd-8415-1bc49e28a4a2",
   "metadata": {
    "deletable": false,
    "editable": false,
    "nbgrader": {
     "cell_type": "markdown",
     "checksum": "f1b1edf6682f309a40375136a7a6eb42",
     "grade": false,
     "grade_id": "cell-b6598550f6867e2a",
     "locked": true,
     "schema_version": 3,
     "solution": false,
     "task": false
    },
    "tags": []
   },
   "source": [
    "Use the following checks to make sure that the resulting polynomial features have the right shape."
   ]
  },
  {
   "cell_type": "code",
   "execution_count": 253,
   "id": "a83a4066-6090-49c4-abfd-4cb3a24bcfa1",
   "metadata": {
    "deletable": false,
    "editable": false,
    "nbgrader": {
     "cell_type": "code",
     "checksum": "1a943ee34a0ffadf571adf20baf6de57",
     "grade": true,
     "grade_id": "cell-72d3dd2839b0cc8e",
     "locked": true,
     "points": 1,
     "schema_version": 3,
     "solution": false,
     "task": false
    },
    "tags": []
   },
   "outputs": [],
   "source": [
    "assert xs_train_polynomial.shape == (35587, 2024)\n",
    "assert xs_valid_polynomial.shape == (8897, 2024)"
   ]
  },
  {
   "cell_type": "code",
   "execution_count": null,
   "id": "9637831b",
   "metadata": {
    "deletable": false,
    "editable": false,
    "nbgrader": {
     "cell_type": "code",
     "checksum": "4e50e56d2a7ce2ae0fa6ece844966ac6",
     "grade": true,
     "grade_id": "cell-8c2e69c9104ba83b",
     "locked": true,
     "points": 1,
     "schema_version": 3,
     "solution": false,
     "task": false
    },
    "tags": []
   },
   "outputs": [],
   "source": [
    "# Used for grading. Do not change."
   ]
  },
  {
   "cell_type": "markdown",
   "id": "67ae1ebe-b473-44b0-b4d0-98ae9c8c848e",
   "metadata": {
    "deletable": false,
    "editable": false,
    "nbgrader": {
     "cell_type": "markdown",
     "checksum": "4eade83724231bf2704762f6763170aa",
     "grade": false,
     "grade_id": "cell-dbe030f730ae7adc",
     "locked": true,
     "schema_version": 3,
     "solution": false,
     "task": false
    },
    "tags": []
   },
   "source": [
    "Now run linear regression with polynomial features to obtain the optimal weights."
   ]
  },
  {
   "cell_type": "code",
   "execution_count": 254,
   "id": "cc4000b3-f674-4198-b0f3-1dfb92c8fed2",
   "metadata": {
    "deletable": false,
    "editable": false,
    "nbgrader": {
     "cell_type": "code",
     "checksum": "07aa4f88e38cf66dec2666a0491a84b1",
     "grade": true,
     "grade_id": "cell-fd4f64b4d66a8ebd",
     "locked": true,
     "points": 1,
     "schema_version": 3,
     "solution": false,
     "task": false
    },
    "tags": []
   },
   "outputs": [],
   "source": [
    "_my_weights = my_linear_regression(xs_train_polynomial, ys_train_std)\n",
    "assert _my_weights.shape == (2024, 1), \"Weights should have shape (D, 1).\""
   ]
  },
  {
   "cell_type": "markdown",
   "id": "a186f3f4-fdaf-4b89-bab0-3f21891e4e20",
   "metadata": {
    "deletable": false,
    "editable": false,
    "nbgrader": {
     "cell_type": "markdown",
     "checksum": "84ebc8c8900c88ecc8ed03c43f5e845d",
     "grade": false,
     "grade_id": "cell-8eebc4ed2f83eb28",
     "locked": true,
     "schema_version": 3,
     "solution": false,
     "task": false
    },
    "tags": []
   },
   "source": [
    "Evaluate your model on the validation data. If you implemented everything correctly so far, you should now get an MSE of roughly $6.8$. Here you just have to run the cell below."
   ]
  },
  {
   "cell_type": "code",
   "execution_count": 255,
   "id": "c162e703-388e-4ceb-9c06-198e4369eaa4",
   "metadata": {
    "deletable": false,
    "editable": false,
    "nbgrader": {
     "cell_type": "code",
     "checksum": "4b1d6af3562dd454077bedfba42504a0",
     "grade": false,
     "grade_id": "cell-24bd9f13a080c6e6",
     "locked": true,
     "schema_version": 3,
     "solution": false,
     "task": false
    },
    "tags": []
   },
   "outputs": [
    {
     "name": "stdout",
     "output_type": "stream",
     "text": [
      "Your MSE should be roughly 6.8 and it is 6.9655565911484185.\n"
     ]
    }
   ],
   "source": [
    "_my_y_valid_pred = xs_valid_polynomial @ _my_weights\n",
    "_my_mse = my_mse(ys_valid_std, _my_y_valid_pred)\n",
    "print(f\"Your MSE should be roughly 6.8 and it is {_my_mse}.\")"
   ]
  },
  {
   "cell_type": "markdown",
   "id": "84fb8d2d-a05f-4fa7-a71f-28ac3511108e",
   "metadata": {
    "deletable": false,
    "editable": false,
    "nbgrader": {
     "cell_type": "markdown",
     "checksum": "e8e1fda11a5977f7db5b10eab07322d7",
     "grade": false,
     "grade_id": "cell-371ae7b013ae1eb8",
     "locked": true,
     "schema_version": 3,
     "solution": false,
     "task": false
    },
    "tags": []
   },
   "source": [
    "You can check whether your model does not overfit by comparing the training and validation MSEs; they should have similar values for a model that does not overfit. Here you just have to run the cell below."
   ]
  },
  {
   "cell_type": "code",
   "execution_count": 256,
   "id": "11679498",
   "metadata": {
    "deletable": false,
    "editable": false,
    "nbgrader": {
     "cell_type": "code",
     "checksum": "8be2a609cf44935d173f988233883a2c",
     "grade": false,
     "grade_id": "cell-0b343a3466a5068f",
     "locked": true,
     "schema_version": 3,
     "solution": false,
     "task": false
    },
    "tags": []
   },
   "outputs": [
    {
     "name": "stdout",
     "output_type": "stream",
     "text": [
      "Your training MSE is 5.871153265349465. Does your model overfit?\n"
     ]
    }
   ],
   "source": [
    "_my_y_train_pred = xs_train_polynomial @ _my_weights\n",
    "_my_train_mse = my_mse(ys_train_std, _my_y_train_pred)\n",
    "print(f\"Your training MSE is {_my_train_mse}. Does your model overfit?\")"
   ]
  },
  {
   "cell_type": "markdown",
   "id": "45adc17e-3b93-4545-84d3-3a42af2d58ec",
   "metadata": {
    "deletable": false,
    "editable": false,
    "nbgrader": {
     "cell_type": "markdown",
     "checksum": "d3599423e7faeed8ca07c5bea4825796",
     "grade": false,
     "grade_id": "cell-846f85a856e19ac7",
     "locked": true,
     "schema_version": 3,
     "solution": false,
     "task": false
    },
    "tags": []
   },
   "source": [
    "## Clustering\n",
    "__Question 2.1__ Implement the basic $K$-Means algorithm."
   ]
  },
  {
   "cell_type": "code",
   "execution_count": 257,
   "id": "33940b20-d679-4710-927c-98269aacbcc3",
   "metadata": {
    "deletable": false,
    "nbgrader": {
     "cell_type": "code",
     "checksum": "5b4cfe8fec4319ae80b8f3c2c89f5f33",
     "grade": false,
     "grade_id": "cell-my-kmeans",
     "locked": false,
     "schema_version": 3,
     "solution": true,
     "task": false
    },
    "tags": []
   },
   "outputs": [],
   "source": [
    "def my_kmeans(xs: np.ndarray, init_centers: np.ndarray, n_iter: int):\n",
    "    \"\"\" Runs the K-Means algorithm from a given initialization\n",
    "    \n",
    "    Args:\n",
    "        xs: A 2D numpy array of shape (N, D) containing N samples of dimension D\n",
    "        init_centers: A 2D numpy array of shape (K, D) containing the K initial cluster centers of dimension D.\n",
    "        n_iter: The number of iterations for the K-Means algorithm.\n",
    "    \n",
    "    Returns:\n",
    "        A (K, D) numpy array containing the final cluster centers.\n",
    "    \"\"\"\n",
    "    \n",
    "    # YOUR CODE HERE\n",
    "    \n",
    "    #for loop n-iterations\n",
    "    A = init_centers\n",
    "    size_a = A.size\n",
    "    #print(A.size)\n",
    "    #print(type(A))\n",
    "    for j in range(n_iter):                                        \n",
    "        #running through all the data points\n",
    "        # storing all the data points corresponding to the centre\n",
    "        temp_init_centers = np.ones_like(A)\n",
    "        #temp_init_centers = np.ones(size_a).reshape(2,2)\n",
    "        \n",
    "        #temp_init_centers = np.arange(A.size).reshape((A.shape[0],A.shape[1]))\n",
    "        #storing how many data points close to the init_centres\n",
    "        temp_init_centers_n = np.ones_like(A[:,1:2:1])     \n",
    "        for i in range(xs.shape[0]): \n",
    "            small_d = float('inf')\n",
    "            index = 0\n",
    "            for k in range(A.shape[0]): #\n",
    "                temp_d = np.sum(np.square(A[k] - xs[i]))\n",
    "                #print(temp_d)\n",
    "                dist = np.sqrt(temp_d)\n",
    "                if temp_d < small_d:\n",
    "                    #update the smallest distance\n",
    "                    small_d = temp_d\n",
    "                    #update the smallest distance to the corresponding centre index\n",
    "                    index = k\n",
    "            temp_init_centers[index] += xs[i]# we are adding the element which is closest to the particular centre\n",
    "            temp_init_centers_n[index] += 1\n",
    "        #update the centroid \n",
    "        if np.all(temp_init_centers_n):\n",
    "            A = temp_init_centers/temp_init_centers_n\n",
    "    return A\n",
    "        \n",
    "    #raise NotImplementedError()"
   ]
  },
  {
   "cell_type": "code",
   "execution_count": null,
   "id": "c1622220-b2f8-44f4-af7a-d8949273768c",
   "metadata": {},
   "outputs": [],
   "source": [
    "\"\"\"x = np.array([[1,2],[3,4],[5,12]])\n",
    "y = np.array([[2],[3],[6]])\n",
    "print(x/y)\n",
    "\"\"\""
   ]
  },
  {
   "cell_type": "markdown",
   "id": "cc63828e-1c89-476d-9ed9-da8a4d4d7dd7",
   "metadata": {
    "deletable": false,
    "editable": false,
    "nbgrader": {
     "cell_type": "markdown",
     "checksum": "c0d7f2543544ef5ef398589f091684d3",
     "grade": false,
     "grade_id": "cell-45b119822c4e5a7a",
     "locked": true,
     "schema_version": 3,
     "solution": false,
     "task": false
    },
    "tags": []
   },
   "source": [
    "Use the following checks to make sure your algorithm produces centers of the correct shape and gives the correct result in the simplest case of 0 iterations."
   ]
  },
  {
   "cell_type": "code",
   "execution_count": 258,
   "id": "b3754cb7-24ac-48f1-b171-4d473a21bbdf",
   "metadata": {
    "deletable": false,
    "editable": false,
    "nbgrader": {
     "cell_type": "code",
     "checksum": "5192d4f7b496521babad4cd3c7ec1cff",
     "grade": true,
     "grade_id": "cell-413a488478c01228",
     "locked": true,
     "points": 1,
     "schema_version": 3,
     "solution": false,
     "task": false
    },
    "tags": []
   },
   "outputs": [],
   "source": [
    "assert my_kmeans(\n",
    "    np.array([[0.92222276, 0.65417794, 0.81171083], [0.32436396, 0.43398054, 0.06203346], [0.66190191, 0.51464817, 0.53506438], [0.52361743, 0.82799732, 0.99989914]]),\n",
    "    np.array([[0.46606325, 0.30170084, 0.3454716], [0.09386854, 0.6876939 , 0.89328422]]),\n",
    "    3\n",
    ").shape == (2, 3), \"Final cluster centers must have the same shape as the initial cluster centers\"\n",
    "assert np.allclose(my_kmeans(np.random.rand(10, 4), __initial_centers := np.random.rand(3, 4), 0), __initial_centers), \"For 0 iterations, the final cluster centers must be identical to the initial cluster centers\""
   ]
  },
  {
   "cell_type": "code",
   "execution_count": null,
   "id": "8da13f00",
   "metadata": {
    "deletable": false,
    "editable": false,
    "nbgrader": {
     "cell_type": "code",
     "checksum": "ba2ba702e1c62214a57c79037346badf",
     "grade": true,
     "grade_id": "cell-dbe7d0fc635c6394",
     "locked": true,
     "points": 1,
     "schema_version": 3,
     "solution": false,
     "task": false
    },
    "tags": []
   },
   "outputs": [],
   "source": [
    "# Used for grading. Do not change."
   ]
  },
  {
   "cell_type": "markdown",
   "id": "c6b96972-1dee-4f54-a26e-7fed8ef09964",
   "metadata": {
    "deletable": false,
    "editable": false,
    "nbgrader": {
     "cell_type": "markdown",
     "checksum": "7e1c7d2a4476f48f1e4e1a4cbfb442b8",
     "grade": false,
     "grade_id": "cell-1bfc9bcccf3db77c",
     "locked": true,
     "schema_version": 3,
     "solution": false,
     "task": false
    },
    "tags": []
   },
   "source": [
    "__Question 2.2__ Generate random data from four gaussian distributions."
   ]
  },
  {
   "cell_type": "code",
   "execution_count": 259,
   "id": "5eacb24e-5690-44d9-87ff-b91c782d0b20",
   "metadata": {
    "deletable": false,
    "nbgrader": {
     "cell_type": "code",
     "checksum": "dcd1e192cefa7b0a18b80805eb71a27b",
     "grade": false,
     "grade_id": "cell-generate-random-data",
     "locked": false,
     "schema_version": 3,
     "solution": true,
     "task": false
    },
    "tags": []
   },
   "outputs": [],
   "source": [
    "xs_cluster_test = ...\n",
    "# YOUR CODE HERE\n",
    "#first approach\n",
    "# first we generate 1000 data points randomly\n",
    "#0.3 probability from normal distribution mean (-2,2), covariance matrix 0.2I\n",
    "\n",
    "#so we generate 300 data points from it\n",
    "#size_1 = 300\n",
    "mean_1 = [-2,2]\n",
    "cov_1 = 0.2 * np.identity(2)\n",
    "#d_1 = rng.multivariate_normal(mean_1, cov_1, size_1)\n",
    "\n",
    "# normal distribution 2\n",
    "#size_2 = 200\n",
    "mean_2 = [-2,-2]\n",
    "cov_2 = 0.2 * np.identity(2)\n",
    "#d_2 = rng.multivariate_normal(mean_2, cov_2, size_2)\n",
    "\n",
    "#normal distribution 3\n",
    "#size_3 = 400\n",
    "mean_3 = [2,-2]\n",
    "cov_3 = 0.5 * np.identity(2)\n",
    "#d_3 = rng.multivariate_normal(mean_3, cov_3 size_3)\n",
    "#normal distribution 4\n",
    "#size_4 = 100\n",
    "mean_4 = [2,2]\n",
    "cov_4 = 0.5 * np.identity(2)\n",
    "#d_4 = rng.multivariate_normal(mean_1, cov_1, size_1)\n",
    "\n",
    "# second approach\n",
    "xs_cluster_test = np.empty([100,2])\n",
    "fn_arr = np.array([1,2,3,4])\n",
    "for i in range(0,100,1):\n",
    "    fn_number = np.random.choice(fn_arr, 1, p=[0.3, 0.2, 0.4, 0.1])\n",
    "    if (fn_number == 1):\n",
    "        rng = np.random.default_rng()\n",
    "        xs_cluster_test[i] = rng.multivariate_normal(mean_1, cov_1, 1)\n",
    "    elif (fn_number == 2):\n",
    "        rng = np.random.default_rng()\n",
    "        xs_cluster_test[i] = rng.multivariate_normal(mean_2, cov_2, 1)\n",
    "    elif (fn_number == 3):\n",
    "        rng = np.random.default_rng()\n",
    "        xs_cluster_test[i] = rng.multivariate_normal(mean_3, cov_3, 1)\n",
    "    elif (fn_number == 4):\n",
    "        rng = np.random.default_rng()\n",
    "        xs_cluster_test[i] = rng.multivariate_normal(mean_4, cov_4, 1)\n",
    "    else:\n",
    "        print(\"error\")\n",
    "#print(xs_cluster_test.shape)\n",
    "#raise NotImplementedError()"
   ]
  },
  {
   "cell_type": "code",
   "execution_count": 260,
   "id": "3547865f-094c-44f5-9db2-9576553dd5c4",
   "metadata": {},
   "outputs": [
    {
     "data": {
      "image/png": "[encoded data removed]",
      "text/plain": [
       "<Figure size 640x480 with 1 Axes>"
      ]
     },
     "metadata": {},
     "output_type": "display_data"
    }
   ],
   "source": [
    "import matplotlib.pyplot as plt\n",
    ">>> plt.plot(xs_cluster_test[:, 0], xs_cluster_test[:, 1], '.', alpha=0.5)\n",
    ">>> plt.axis('equal')\n",
    ">>> plt.grid()\n",
    ">>> plt.show()"
   ]
  },
  {
   "cell_type": "markdown",
   "id": "a2e29fda-bac3-45bd-aba7-007c3926c1e6",
   "metadata": {
    "deletable": false,
    "editable": false,
    "nbgrader": {
     "cell_type": "markdown",
     "checksum": "8d90abdfbc581aa6a43607b7e1d35a5c",
     "grade": false,
     "grade_id": "cell-70519cab5c9118b3",
     "locked": true,
     "schema_version": 3,
     "solution": false,
     "task": false
    },
    "tags": []
   },
   "source": [
    "Use the following check to make sure your data has the correct shape."
   ]
  },
  {
   "cell_type": "code",
   "execution_count": 261,
   "id": "3adc1d8a-5df0-4c8f-830c-278aa35d056b",
   "metadata": {
    "deletable": false,
    "editable": false,
    "nbgrader": {
     "cell_type": "code",
     "checksum": "5484bdf0176438d4a41960efc63eecdc",
     "grade": true,
     "grade_id": "cell-e05bd973f8c89754",
     "locked": true,
     "points": 1,
     "schema_version": 3,
     "solution": false,
     "task": false
    },
    "tags": []
   },
   "outputs": [],
   "source": [
    "assert xs_cluster_test.shape == (100, 2), \"You should get 100 2D data points\""
   ]
  },
  {
   "cell_type": "code",
   "execution_count": null,
   "id": "61b1e16d-6b29-403f-8388-4a961bcaf53a",
   "metadata": {},
   "outputs": [],
   "source": [
    "for i,n in "
   ]
  },
  {
   "cell_type": "markdown",
   "id": "998e9e25-2356-41c7-8e03-5e59271df077",
   "metadata": {
    "deletable": false,
    "editable": false,
    "nbgrader": {
     "cell_type": "markdown",
     "checksum": "f34598caa58a8572763ead24988a33e8",
     "grade": false,
     "grade_id": "cell-e7c8941320cb1909",
     "locked": true,
     "schema_version": 3,
     "solution": false,
     "task": false
    },
    "tags": []
   },
   "source": [
    "__Question 2.3__ Run your $K$-Means algorithm on the test data for $K=2,3,4,5$ clusters and plot the final cluster centers."
   ]
  },
  {
   "cell_type": "code",
   "execution_count": 262,
   "id": "f0513499-7558-43d8-b9f6-dade4e5a524e",
   "metadata": {
    "deletable": false,
    "nbgrader": {
     "cell_type": "code",
     "checksum": "d683c75cdbcc6b26324f7eb2d9489200",
     "grade": false,
     "grade_id": "cell-my-plot",
     "locked": false,
     "schema_version": 3,
     "solution": true,
     "task": false
    },
    "tags": []
   },
   "outputs": [],
   "source": [
    "import matplotlib.pyplot as plt\n",
    "from sklearn.cluster import kmeans_plusplus\n",
    "\n",
    "def my_plot(xs: np.ndarray):\n",
    "    \"\"\" Plots the K-Means result for different numbers of cluster given 2-dimensional data.\n",
    "    \n",
    "    Notes:\n",
    "        Use the `kmeans_plusplus` function to get initial cluster centers.\n",
    "    \n",
    "    Args:\n",
    "        xs: A 2D numpy array of shape (N, 2) containing N 2-dimensional samples.\n",
    "    \"\"\"\n",
    "    \n",
    "    plt.figure(figsize=(10, 10))\n",
    "    n_clusters = [2, 3, 4, 5]  # different numbers of clusters\n",
    "    \n",
    "    # iterate over each cluster n in `n_clusters` with index i\n",
    "    for i, n in enumerate(n_clusters):\n",
    "        plt.subplot(2, 2, i + 1)\n",
    "        # YOUR CODE HERE\n",
    "        initial_centre = kmeans_plusplus(xs, n,random_state = 0)[0]\n",
    "        #print(type(initial_centre))\n",
    "        #print(initial_centre)\n",
    "        n_iter = 5\n",
    "        output_1 = my_kmeans(xs, initial_centre, n_iter)\n",
    "        #my_kmeans(xs, initial_centre, n_iter)\n",
    "        plt.plot(xs[:, 0], xs[:, 1], '.', alpha=0.5)\n",
    "        plt.plot(output_1[:, 0], output_1[:, 1], '.', alpha=0.5)\n",
    "        \n",
    "        #raise NotImplementedError()"
   ]
  },
  {
   "cell_type": "markdown",
   "id": "e673b278-dec8-40eb-a3a0-cedf91cb5f09",
   "metadata": {
    "deletable": false,
    "editable": false,
    "nbgrader": {
     "cell_type": "markdown",
     "checksum": "5d452bc4d22ef1dd11a0afee42992638",
     "grade": false,
     "grade_id": "cell-b3be281e0e9b2005",
     "locked": true,
     "schema_version": 3,
     "solution": false,
     "task": false
    },
    "tags": []
   },
   "source": [
    "Plot the data and the centers you get using your randomly generated data. You should get a result that looks conceptually similar to the plots that you find in the assignment PDF. Here you just have to run the cell below."
   ]
  },
  {
   "cell_type": "code",
   "execution_count": 263,
   "id": "3874ba96-0787-4d76-b216-79b4745e85a4",
   "metadata": {
    "deletable": false,
    "editable": false,
    "nbgrader": {
     "cell_type": "code",
     "checksum": "42d98637cf6f9651414dca29afddf977",
     "grade": true,
     "grade_id": "cell-b98971a8581fe035",
     "locked": true,
     "points": 1,
     "schema_version": 3,
     "solution": false,
     "task": false
    },
    "tags": []
   },
   "outputs": [
    {
     "data": {
      "image/png": "[encoded data removed]",
      "text/plain": [
       "<Figure size 1000x1000 with 4 Axes>"
      ]
     },
     "metadata": {},
     "output_type": "display_data"
    }
   ],
   "source": [
    "my_plot(xs_cluster_test)"
   ]
  },
  {
   "cell_type": "markdown",
   "id": "58455729-9d0d-4da8-8477-2617fb22f1f9",
   "metadata": {
    "deletable": false,
    "editable": false,
    "nbgrader": {
     "cell_type": "markdown",
     "checksum": "6db81a170435325448690956d04b5e61",
     "grade": false,
     "grade_id": "cell-87d26a26e10c4ce4",
     "locked": true,
     "schema_version": 3,
     "solution": false,
     "task": false
    },
    "tags": []
   },
   "source": [
    "## Radial Basis Functions Network\n",
    "__Question 3.1__ Find $K=100$ cluster centers using $K$-Means."
   ]
  },
  {
   "cell_type": "code",
   "execution_count": 264,
   "id": "be05f2c2-b6ea-4c9c-9ba5-a0b06be3eb3a",
   "metadata": {
    "deletable": false,
    "nbgrader": {
     "cell_type": "code",
     "checksum": "2f6eb158a031ce0778ef7b1f1fdc016b",
     "grade": false,
     "grade_id": "cell-find-centers",
     "locked": false,
     "schema_version": 3,
     "solution": true,
     "task": false
    },
    "tags": []
   },
   "outputs": [],
   "source": [
    "from sklearn.cluster import KMeans\n",
    "\n",
    "def find_centers(xs: np.ndarray, n_clusters: int=100) -> np.ndarray:\n",
    "    \"\"\" Computes KMeans cluster centers for the given data.\n",
    "    \n",
    "    Even though we will use this function to compute centers for our 21-dimensional data points,\n",
    "    this function should work for arbitrary dimensions.\n",
    "    \n",
    "    Notes:\n",
    "        Use the predefined KMeans algorithm provided by sklearn.\n",
    "        \n",
    "    Args:\n",
    "        xs: A 2D numpy array of shape (N, D) containing N D-dimensional samples.\n",
    "        n_clusters: Number of clusters to use.\n",
    "    \n",
    "    Returns:\n",
    "        n_clusters D-dimensional cluster centers as a numpy array of shape (n_clusters, D).\n",
    "    \"\"\"\n",
    "    \n",
    "    # YOUR CODE HERE\n",
    "    #we used init = \"k-means++\" in this the default value of n_init = 1, also we used the random state = 0  \n",
    "    kmeans = KMeans(n_clusters,init=\"k-means++\", random_state=0).fit(xs)\n",
    "    return kmeans.cluster_centers_\n",
    "    \n",
    "    \n",
    "    \n",
    "    #raise NotImplementedError()"
   ]
  },
  {
   "cell_type": "markdown",
   "id": "c57a2ec3-712f-435d-9393-76f8f2a36a53",
   "metadata": {
    "deletable": false,
    "editable": false,
    "nbgrader": {
     "cell_type": "markdown",
     "checksum": "895662cfa9655ca0ef9905689749e38a",
     "grade": false,
     "grade_id": "cell-044f47839c1c459e",
     "locked": true,
     "schema_version": 3,
     "solution": false,
     "task": false
    },
    "tags": []
   },
   "source": [
    "Use the following check to make sure you get the correct number of centers with the correct dimensionality."
   ]
  },
  {
   "cell_type": "code",
   "execution_count": 265,
   "id": "bc434822-7cb9-4f93-8e04-07cd7ab594d4",
   "metadata": {
    "deletable": false,
    "editable": false,
    "nbgrader": {
     "cell_type": "code",
     "checksum": "840ff1d92c16b0e0d9bd2060223cde3e",
     "grade": true,
     "grade_id": "cell-84fa879022f70241",
     "locked": true,
     "points": 1,
     "schema_version": 3,
     "solution": false,
     "task": false
    },
    "tags": []
   },
   "outputs": [],
   "source": [
    "# This 100x21 numpy array should contain the cluster centers\n",
    "xs_centers = find_centers(xs_train_std)\n",
    "assert xs_centers.shape == (100, 21), \"You should get 100 clusters around 21-dimensional centers.\""
   ]
  },
  {
   "cell_type": "markdown",
   "id": "106fa318-9517-44ec-a822-1796a02167a7",
   "metadata": {
    "deletable": false,
    "editable": false,
    "nbgrader": {
     "cell_type": "markdown",
     "checksum": "735a16eab04e30f3061b1377a478c712",
     "grade": false,
     "grade_id": "cell-14ca90e258968b73",
     "locked": true,
     "schema_version": 3,
     "solution": false,
     "task": false
    },
    "tags": []
   },
   "source": [
    "__Question 3.2__ Implement the element-wise Gaussian radial function."
   ]
  },
  {
   "cell_type": "code",
   "execution_count": 266,
   "id": "cb2753d7-7e01-4b6e-84ef-d10f4fdb98af",
   "metadata": {
    "deletable": false,
    "nbgrader": {
     "cell_type": "code",
     "checksum": "ea1eaff66b2d813de4d919ae5d12a45f",
     "grade": false,
     "grade_id": "cell-radial-basis-function-transformation",
     "locked": false,
     "schema_version": 3,
     "solution": true,
     "task": false
    },
    "tags": []
   },
   "outputs": [],
   "source": [
    "def my_gaussian(r: np.ndarray, sigma: float) -> np.ndarray:\n",
    "    \"\"\" Gaussian probability density function.\n",
    "    \n",
    "    The function is applied element-wise.\n",
    "    \n",
    "    Args:\n",
    "        r: A numpy array of arbitrary shape to apply the gaussian to (element-wise).\n",
    "        sigma: Variance used for normalization.\n",
    "        \n",
    "    Returns:\n",
    "        A numpy array of the same shape as the input r to which the gaussian was applied.\n",
    "    \"\"\"\n",
    "    # YOUR CODE HERE\n",
    "    sigma_square = np.square(sigma)\n",
    "    fn_psi = np.square(r)\n",
    "    fn_psi = fn_psi * ((-1)/ (2 * np.square(sigma)))\n",
    "    fn_psi = np.exp(fn_psi)\n",
    "    fn_psi = fn_psi * (1/(np.sqrt(2 * np.square(sigma) * np.pi)))\n",
    "    #fn_psi = np.exp(float(((-1) * np.square(r))/ (2 * np.square(sigma))))\n",
    "    #fn_psi = fn_psi * (1/(np.sqrt(2 * np.square(sigma) * np.pi)))\n",
    "    #return fn_psi\n",
    "    #print(fn_psi.shape)\n",
    "    #print(type(sigma_square))\n",
    "    return fn_psi\n",
    "    #raise NotImplementedError()"
   ]
  },
  {
   "cell_type": "markdown",
   "id": "ccffbf63-15e5-40e1-b453-dd26a697549d",
   "metadata": {
    "deletable": false,
    "editable": false,
    "nbgrader": {
     "cell_type": "markdown",
     "checksum": "8513295f70b19b04719616a57c478e94",
     "grade": false,
     "grade_id": "cell-a05bb5270faff03e",
     "locked": true,
     "schema_version": 3,
     "solution": false,
     "task": false
    },
    "tags": []
   },
   "source": [
    "Use the following check to make sure you apply the gaussian element-wise to the input data."
   ]
  },
  {
   "cell_type": "code",
   "execution_count": 267,
   "id": "33eb2d57-444a-4b87-9d5d-c00e549ed429",
   "metadata": {
    "deletable": false,
    "editable": false,
    "nbgrader": {
     "cell_type": "code",
     "checksum": "12fbb2bcbc2c24d989bb7c4353ad2b9c",
     "grade": true,
     "grade_id": "cell-0e39c8a3d1b1056b",
     "locked": true,
     "points": 1,
     "schema_version": 3,
     "solution": false,
     "task": false
    },
    "tags": []
   },
   "outputs": [],
   "source": [
    "_test_data = np.array([[0, 1, 2, 3, 4], [5, 6, 7, 8, 9]])\n",
    "assert my_gaussian(_test_data, 1).shape == (2, 5), \"The Gaussian should not change the shape of the data you apply it to as it must be applied element-wise.\""
   ]
  },
  {
   "cell_type": "code",
   "execution_count": null,
   "id": "be074fd1-6ba6-4a00-b763-7833ad5d9bc5",
   "metadata": {
    "deletable": false,
    "editable": false,
    "nbgrader": {
     "cell_type": "code",
     "checksum": "733decdda3e8880bac1345e0f2ad83ba",
     "grade": true,
     "grade_id": "cell-ed1a796edd321734",
     "locked": true,
     "points": 1,
     "schema_version": 3,
     "solution": false,
     "task": false
    },
    "tags": []
   },
   "outputs": [],
   "source": [
    "# Used for grading. Do not change."
   ]
  },
  {
   "cell_type": "markdown",
   "id": "2dd8f95a",
   "metadata": {
    "deletable": false,
    "editable": false,
    "nbgrader": {
     "cell_type": "markdown",
     "checksum": "57a3aefb844ac87e540a340cbb3ed5a3",
     "grade": false,
     "grade_id": "cell-3e29695c4656799a",
     "locked": true,
     "schema_version": 3,
     "solution": false,
     "task": false
    },
    "tags": []
   },
   "source": [
    "__Question 3.3__ Implement the function `compute_rbf_features`, which takes as input the standardized data, cluster centers, and scale $\\sigma$ and outputs the feature matrix (with a bias term)."
   ]
  },
  {
   "cell_type": "code",
   "execution_count": 268,
   "id": "f17b944f",
   "metadata": {
    "deletable": false,
    "nbgrader": {
     "cell_type": "code",
     "checksum": "6cf0b69e911343b52505d718ed9f8d9d",
     "grade": false,
     "grade_id": "cell-c27589a1b0a60107",
     "locked": false,
     "schema_version": 3,
     "solution": true,
     "task": false
    },
    "tags": []
   },
   "outputs": [],
   "source": [
    "def compute_rbf_features(xs: np.ndarray, centers: np.ndarray, sigma: float) -> np.ndarray:\n",
    "    \"\"\" Computes the feature matrix for the data xs with the given cluster centers and scale.\n",
    "    \n",
    "    For the distance, use the euclidean norm.\n",
    "    Your transformation should not change the order of data points or centers.\n",
    "    \n",
    "    Notes:\n",
    "        You may use np.linalg.norm(x) to get the norm of a vector or matrix x.\n",
    "        To get the norm along a specified axis a, use np.linalg.norm(x, axis=a)\n",
    "        \n",
    "    Args:\n",
    "        xs: 2D numpy array of shape (N, D) containing N D-dimensional data points.\n",
    "        centers: 2D numpy array of shape (K, D) containing K D-dimensional centers.\n",
    "        sigma: Variance used for normalization.\n",
    "        \n",
    "    Returns:\n",
    "        A 2D numpy array of shape (N, K) containing the transformations for each pair of data points and cluster centers.\n",
    "    \"\"\"\n",
    "    # YOUR CODE HERE\n",
    "    #initialize the output matrix (n,k) 2d\n",
    "    out_arr = np.ones((xs.shape[0], centers.shape[0] + 1))\n",
    "    for i in range(0, xs.shape[0], 1):\n",
    "        for j in range(0, centers.shape[0], 1):\n",
    "                        dist = np.linalg.norm(xs[i]-centers[j])\n",
    "                        #for k in range(0,2,1):\n",
    "                        #dist  = np.sqrt(np.sum(np.square(xs[i] - centers[j])))\n",
    "                        out_arr[i,j + 1] = dist\n",
    "                       #print(type(dist))\n",
    "                       #print(dist)\n",
    "                       #print(dist.shape)\n",
    "    out_arr[:,1:] = my_gaussian(out_arr[:,1:],sigma)\n",
    "    #out_arr = my_gaussian(out_arr,sigma)\n",
    "    \n",
    "    print(out_arr)\n",
    "    return out_arr\n",
    "                       \n",
    "                       \n",
    "                       \n",
    "                       \n",
    "            \n",
    "            \n",
    "            \n",
    "    #raise NotImplementedError()"
   ]
  },
  {
   "cell_type": "code",
   "execution_count": 269,
   "id": "261f23c4-f7ea-42ad-a45f-45713c6343d0",
   "metadata": {},
   "outputs": [
    {
     "name": "stdout",
     "output_type": "stream",
     "text": [
      "[[1.00000000e+00 1.22037369e-07]\n",
      " [1.00000000e+00 1.69185689e-56]]\n"
     ]
    }
   ],
   "source": [
    "_test_data = np.array([[0, 1, 2, 3, 4], [5, 6, 7, 8, 9]])\n",
    "_test_centers_1 = np.array([[0, 0, 0, 0, 0.]])\n",
    "_test_centers_2 = np.array([[0, 0, 0, 0, 0.], [5, 5, 5, 5, 5.]])\n",
    "_message = \"Your transformation should output an array of shape (N, M+1), where N is the number of points and M is the number of cluster centers.\"\n",
    "assert compute_rbf_features(_test_data, _test_centers_1, 1).shape == (2, 2), _message"
   ]
  },
  {
   "cell_type": "markdown",
   "id": "6fa8c111-5bd2-4709-8b2e-af88db11c5fe",
   "metadata": {
    "deletable": false,
    "editable": false,
    "nbgrader": {
     "cell_type": "markdown",
     "checksum": "dbe42984414108a061bdff4885472dd2",
     "grade": false,
     "grade_id": "cell-73cc4d6e59421fe0",
     "locked": true,
     "schema_version": 3,
     "solution": false,
     "task": false
    },
    "tags": []
   },
   "source": [
    "Use the following checks to make sure your transformation produces the correct result in simple cases."
   ]
  },
  {
   "cell_type": "code",
   "execution_count": 270,
   "id": "55a96219-9c21-4da7-82bd-add12e18d00c",
   "metadata": {
    "deletable": false,
    "editable": false,
    "nbgrader": {
     "cell_type": "code",
     "checksum": "34d1862017bd13924b058fea853f1e15",
     "grade": true,
     "grade_id": "cell-6ec4d538fd966693",
     "locked": true,
     "points": 1,
     "schema_version": 3,
     "solution": false,
     "task": false
    },
    "tags": []
   },
   "outputs": [
    {
     "name": "stdout",
     "output_type": "stream",
     "text": [
      "[[1.00000000e+00 1.22037369e-07]\n",
      " [1.00000000e+00 1.69185689e-56]]\n",
      "[[1.00000000e+00 1.22037369e-07 4.54790949e-13]\n",
      " [1.00000000e+00 1.69185689e-56 1.22037369e-07]]\n",
      "[[1. 0.]]\n"
     ]
    }
   ],
   "source": [
    "_test_data = np.array([[0, 1, 2, 3, 4], [5, 6, 7, 8, 9]])\n",
    "_test_centers_1 = np.array([[0, 0, 0, 0, 0.]])\n",
    "_test_centers_2 = np.array([[0, 0, 0, 0, 0.], [5, 5, 5, 5, 5.]])\n",
    "_message = \"Your transformation should output an array of shape (N, M+1), where N is the number of points and M is the number of cluster centers.\"\n",
    "assert compute_rbf_features(_test_data, _test_centers_1, 1).shape == (2, 2), _message\n",
    "assert compute_rbf_features(_test_data, _test_centers_2, 1).shape == (2, 3), _message\n",
    "\n",
    "_features_far_data = compute_rbf_features(np.array([[0, 0, 0]]), np.array([[100, 200, 300]]), 1)\n",
    "_expected_output = np.array([1., 0.])\n",
    "assert np.allclose(_features_far_data, _expected_output) or np.allclose(_features_far_data[::-1], _expected_output), \"For a data point this far from the center, the transformation should be roughly [1., 0.]\""
   ]
  },
  {
   "cell_type": "code",
   "execution_count": null,
   "id": "e6069d01",
   "metadata": {
    "deletable": false,
    "editable": false,
    "nbgrader": {
     "cell_type": "code",
     "checksum": "f8abd001a8b171bd566ee9353605e3f2",
     "grade": true,
     "grade_id": "cell-03938749f8034254",
     "locked": true,
     "points": 1,
     "schema_version": 3,
     "solution": false,
     "task": false
    },
    "tags": []
   },
   "outputs": [],
   "source": [
    "# Used for grading. Do not change."
   ]
  },
  {
   "cell_type": "code",
   "execution_count": null,
   "id": "ae65a83c-4df4-4e75-9f2b-cf421c646c37",
   "metadata": {
    "deletable": false,
    "editable": false,
    "nbgrader": {
     "cell_type": "code",
     "checksum": "c41e49a0698ff1b07758a701568baea4",
     "grade": true,
     "grade_id": "cell-d0151732219f54aa",
     "locked": true,
     "points": 1,
     "schema_version": 3,
     "solution": false,
     "task": false
    },
    "tags": []
   },
   "outputs": [],
   "source": [
    "# Used for grading. Do not change."
   ]
  },
  {
   "cell_type": "markdown",
   "id": "77531373-8c4a-4569-aa6e-96693fa4bda3",
   "metadata": {
    "deletable": false,
    "editable": false,
    "nbgrader": {
     "cell_type": "markdown",
     "checksum": "30ac1fef5fc090e25b5bf395f1673fd4",
     "grade": false,
     "grade_id": "cell-ffc58b622a4235e0",
     "locked": true,
     "schema_version": 3,
     "solution": false,
     "task": false
    },
    "tags": []
   },
   "source": [
    "__Question 3.4__ Run simple linear regression on the transformed data and evaluate it on both the training and validation sets."
   ]
  },
  {
   "cell_type": "code",
   "execution_count": 271,
   "id": "73f5a4ae-7ef7-4174-8597-4c36b2206c12",
   "metadata": {
    "deletable": false,
    "nbgrader": {
     "cell_type": "code",
     "checksum": "46fb2c69cefab52c0f4b974acd48af62",
     "grade": false,
     "grade_id": "cell-evaluate-transformed-data",
     "locked": false,
     "schema_version": 3,
     "solution": true,
     "task": false
    },
    "tags": []
   },
   "outputs": [
    {
     "name": "stdout",
     "output_type": "stream",
     "text": [
      "[[1.         0.01555738 0.01572794 ... 0.01536492 0.01544302 0.01489232]\n",
      " [1.         0.01569531 0.01593472 ... 0.01551901 0.01523094 0.01506509]\n",
      " [1.         0.01532993 0.0155661  ... 0.01517889 0.01451361 0.014661  ]\n",
      " ...\n",
      " [1.         0.01539564 0.01553821 ... 0.01529555 0.0153926  0.01508319]\n",
      " [1.         0.01517441 0.01483538 ... 0.01546657 0.01438303 0.01584217]\n",
      " [1.         0.01578094 0.0159449  ... 0.01561506 0.01543917 0.01512819]]\n",
      "[[1.         0.01585014 0.01564151 ... 0.01587886 0.01491157 0.01548043]\n",
      " [1.         0.01570328 0.01579623 ... 0.01564028 0.01510662 0.01516114]\n",
      " [1.         0.0157128  0.01531678 ... 0.01581317 0.01493847 0.01570899]\n",
      " ...\n",
      " [1.         0.01507572 0.01529155 ... 0.01493362 0.01573056 0.01448421]\n",
      " [1.         0.01574825 0.01594773 ... 0.01558778 0.01543889 0.01511249]\n",
      " [1.         0.01564614 0.01588573 ... 0.01551508 0.01519187 0.01507666]]\n"
     ]
    }
   ],
   "source": [
    "xs_train_gauss = compute_rbf_features(xs_train_std, xs_centers, 25)\n",
    "_my_weights = my_linear_regression(xs_train_gauss, ys_train_std)\n",
    "\n",
    "ys_train_pred = ...\n",
    "xs_valid_gauss = ...\n",
    "ys_valid_pred = ...\n",
    "# YOUR CODE HERE\n",
    "#print(xs_train_gauss.shape)\n",
    "#print(xs_train_gauss.shape)\n",
    "#print(_my_weights.shape)\n",
    "\n",
    "#t_ys_train_pred = _my_weights.T * xs_train_gauss\n",
    "#ys_train_pred = np.sum(t_ys_train_pred, axis = 0)\n",
    "ys_train_pred = xs_train_gauss @ _my_weights\n",
    "#print(ys_train_pred.shape)\n",
    "xs_valid_gauss = compute_rbf_features(xs_valid_std, xs_centers, 25)\n",
    "_my_weights_val = my_linear_regression(xs_valid_gauss, ys_valid_std)\n",
    "\n",
    "\n",
    "#t_ys_valid_pred = _my_weights_val.T * xs_valid_gauss\n",
    "#ys_valid_pred = np.sum(t_ys_valid_pred,axis = 0)\n",
    "ys_valid_pred = xs_valid_gauss @ _my_weights_val\n",
    "\n",
    "#print(ys_valid_pred.shape)\n",
    "\n",
    "#raise NotImplementedError()"
   ]
  },
  {
   "cell_type": "markdown",
   "id": "83b5168b-01f8-4f45-b6a6-2d9d045cd575",
   "metadata": {
    "deletable": false,
    "editable": false,
    "nbgrader": {
     "cell_type": "markdown",
     "checksum": "b4132994c76d08c4a79531393759d328",
     "grade": false,
     "grade_id": "cell-df8152d7bc5ed462",
     "locked": true,
     "schema_version": 3,
     "solution": false,
     "task": false
    },
    "tags": []
   },
   "source": [
    "If you implemented everything correctly so far, you should now get an MSE of roughly $18.3$. You can check this by running the cell below."
   ]
  },
  {
   "cell_type": "code",
   "execution_count": 272,
   "id": "69d24a10-d924-4b46-ab8a-eef874bd4046",
   "metadata": {
    "deletable": false,
    "editable": false,
    "nbgrader": {
     "cell_type": "code",
     "checksum": "6c58bc08dd6a4a45312d6416e2b2b9f5",
     "grade": true,
     "grade_id": "cell-140ec543a6ed124b",
     "locked": true,
     "points": 1,
     "schema_version": 3,
     "solution": false,
     "task": false
    },
    "tags": []
   },
   "outputs": [
    {
     "name": "stdout",
     "output_type": "stream",
     "text": [
      "Your validation MSE should be roughly 18.3 and it is 17.966324031028428\n"
     ]
    }
   ],
   "source": [
    "_mse = my_mse(ys_valid_std, ys_valid_pred)\n",
    "print(f\"Your validation MSE should be roughly 18.3 and it is {_mse}\")"
   ]
  },
  {
   "cell_type": "markdown",
   "id": "162ed5b3",
   "metadata": {
    "deletable": false,
    "editable": false,
    "nbgrader": {
     "cell_type": "markdown",
     "checksum": "655340fe8a5cc67c3b6d08850495a647",
     "grade": false,
     "grade_id": "cell-04f96131915e3e89",
     "locked": true,
     "schema_version": 3,
     "solution": false,
     "task": false
    },
    "tags": []
   },
   "source": [
    "You can check that your model does not overfit by comparing the training and validation MSEs; they should have similar values for a model that does not overfit. Here you just have to run the cell below."
   ]
  },
  {
   "cell_type": "code",
   "execution_count": 273,
   "id": "b9a8586b",
   "metadata": {
    "deletable": false,
    "editable": false,
    "nbgrader": {
     "cell_type": "code",
     "checksum": "60c0ffc072fdee18184439adb6fe207f",
     "grade": false,
     "grade_id": "cell-73b7f6a366e2e14e",
     "locked": true,
     "schema_version": 3,
     "solution": false,
     "task": false
    },
    "tags": []
   },
   "outputs": [
    {
     "name": "stdout",
     "output_type": "stream",
     "text": [
      "Your training MSE is 18.02681260411399. Does your model overfit?\n"
     ]
    }
   ],
   "source": [
    "_my_train_mse = my_mse(ys_train_std, ys_train_pred)\n",
    "print(f\"Your training MSE is {_my_train_mse}. Does your model overfit?\")"
   ]
  },
  {
   "cell_type": "markdown",
   "id": "fb4a1c9b-ef49-4902-9b29-338a000ec965",
   "metadata": {
    "deletable": false,
    "editable": false,
    "nbgrader": {
     "cell_type": "markdown",
     "checksum": "11da2fd19a26c8ce12d10d0c8224510f",
     "grade": false,
     "grade_id": "cell-d4aeb606bd88cc88",
     "locked": true,
     "schema_version": 3,
     "solution": false,
     "task": false
    },
    "tags": []
   },
   "source": [
    "__Ungraded question 3.5__ Can you improve the performance of the RBF network?"
   ]
  },
  {
   "cell_type": "markdown",
   "id": "e1d3b173-906a-4d83-9a11-4b53e28f1cea",
   "metadata": {
    "deletable": false,
    "editable": false,
    "nbgrader": {
     "cell_type": "markdown",
     "checksum": "8f90db5f83abeea1e493ab42ceacdce7",
     "grade": false,
     "grade_id": "cell-7e5d4d4b7d622e5d",
     "locked": true,
     "schema_version": 3,
     "solution": false,
     "task": false
    },
    "tags": []
   },
   "source": [
    "__Question 3.6__ Evaluate your final model on the test data"
   ]
  },
  {
   "cell_type": "code",
   "execution_count": 276,
   "id": "5b2a808f-0a59-4d19-9bb3-87995e3949bf",
   "metadata": {
    "deletable": false,
    "nbgrader": {
     "cell_type": "code",
     "checksum": "c270828f2a751843669276435472099a",
     "grade": false,
     "grade_id": "cell-final-evaluation",
     "locked": false,
     "schema_version": 3,
     "solution": true,
     "task": false
    },
    "tags": []
   },
   "outputs": [
    {
     "name": "stdout",
     "output_type": "stream",
     "text": [
      "[[1.         0.01525796 0.01559797 ... 0.01505258 0.01539714 0.01436818]\n",
      " [1.         0.01584621 0.01575063 ... 0.01566367 0.0153029  0.01501295]\n",
      " [1.         0.01585446 0.01577793 ... 0.01576914 0.01514562 0.01518923]\n",
      " ...\n",
      " [1.         0.01556404 0.01556625 ... 0.01548147 0.01545365 0.01494399]\n",
      " [1.         0.01587024 0.01555991 ... 0.01586558 0.01518886 0.01550726]\n",
      " [1.         0.01562055 0.01530877 ... 0.01562075 0.01524227 0.01564549]]\n",
      "Your model achieved an MSE of 17.206786295997382 on the test set.\n"
     ]
    }
   ],
   "source": [
    "# This should contain the predictions on the test data set\n",
    "ys_pred_test = ...\n",
    "\n",
    "# This should contain the resulting MSE on the test data\n",
    "mse_test = ... \n",
    "# YOUR CODE HERE\n",
    "xs_test_gauss = compute_rbf_features(xs_test_std, xs_centers, 25)\n",
    "_my_weights_test = my_linear_regression(xs_test_gauss, ys_test_std)\n",
    "\n",
    "\n",
    "#t_ys_valid_pred = _my_weights_val.T * xs_valid_gauss\n",
    "#ys_valid_pred = np.sum(t_ys_valid_pred,axis = 0)\n",
    "ys_pred_test = xs_test_gauss @ _my_weights_test\n",
    "mse_test = my_mse(ys_test_std, ys_pred_test)\n",
    "\n",
    "#raise NotImplementedError()\n",
    "\n",
    "print(f\"Your model achieved an MSE of {mse_test} on the test set.\")"
   ]
  },
  {
   "cell_type": "markdown",
   "id": "e9728999-4f79-4697-a18a-0e91c3269dd2",
   "metadata": {
    "deletable": false,
    "editable": false,
    "nbgrader": {
     "cell_type": "markdown",
     "checksum": "69b3eccef9741522f9fa9a4ebe38be93",
     "grade": false,
     "grade_id": "cell-cd06a6e22b363722",
     "locked": true,
     "schema_version": 3,
     "solution": false,
     "task": false
    },
    "tags": []
   },
   "source": [
    "Use the following check to make sure your predictions have the correct shape."
   ]
  },
  {
   "cell_type": "code",
   "execution_count": 277,
   "id": "d75c6fa8",
   "metadata": {
    "deletable": false,
    "editable": false,
    "nbgrader": {
     "cell_type": "code",
     "checksum": "ed915282d9fcaa2c815d02e112664de5",
     "grade": true,
     "grade_id": "cell-b9ca04bc7854ba1a",
     "locked": true,
     "points": 1,
     "schema_version": 3,
     "solution": false,
     "task": false
    },
    "tags": []
   },
   "outputs": [],
   "source": [
    "assert ys_pred_test.shape == ys_test_std.shape"
   ]
  },
  {
   "cell_type": "code",
   "execution_count": null,
   "id": "19056240-a420-4508-93e1-756bd68fbb2b",
   "metadata": {},
   "outputs": [],
   "source": []
  }
 ],
 "metadata": {
  "kernelspec": {
   "display_name": "Python 3 (ipykernel)",
   "language": "python",
   "name": "python3"
  },
  "language_info": {
   "codemirror_mode": {
    "name": "ipython",
    "version": 3
   },
   "file_extension": ".py",
   "mimetype": "text/x-python",
   "name": "python",
   "nbconvert_exporter": "python",
   "pygments_lexer": "ipython3",
   "version": "3.10.8"
  },
  "vscode": {
   "interpreter": {
    "hash": "c82db3a7fbcff1b4594e8da8ebd8f4f074de2b988865db184d677ab538415b02"
   }
  }
 },
 "nbformat": 4,
 "nbformat_minor": 5
}
